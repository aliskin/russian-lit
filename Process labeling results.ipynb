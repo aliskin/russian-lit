{
 "cells": [
  {
   "cell_type": "code",
   "execution_count": 1,
   "id": "d35a856a",
   "metadata": {},
   "outputs": [],
   "source": [
    "import json\n",
    "import pandas as pd\n",
    "#import spacy\n",
    "#nlp = spacy.load(\"ru_core_news_sm\")"
   ]
  },
  {
   "cell_type": "code",
   "execution_count": 2,
   "id": "6c94ca53",
   "metadata": {},
   "outputs": [],
   "source": [
    "import os"
   ]
  },
  {
   "cell_type": "code",
   "execution_count": 3,
   "id": "5e281f74",
   "metadata": {},
   "outputs": [],
   "source": [
    "df = pd.read_csv('data/for labeling/results-2.tsv', sep='\\t')"
   ]
  },
  {
   "cell_type": "code",
   "execution_count": 4,
   "id": "c9284942",
   "metadata": {},
   "outputs": [
    {
     "data": {
      "text/plain": [
       "200"
      ]
     },
     "execution_count": 4,
     "metadata": {},
     "output_type": "execute_result"
    }
   ],
   "source": [
    "len(df)"
   ]
  },
  {
   "cell_type": "code",
   "execution_count": 5,
   "id": "8c98a2bd",
   "metadata": {},
   "outputs": [],
   "source": [
    "groups = df.groupby('INPUT:title')"
   ]
  },
  {
   "cell_type": "code",
   "execution_count": 6,
   "id": "8e93bf06",
   "metadata": {},
   "outputs": [
    {
     "name": "stdout",
     "output_type": "stream",
     "text": [
      "12 стульев\n",
      "Леди Макбет Мценского уезда\n",
      "Мастер и Маргарита\n",
      "Обломов\n",
      "Собачье сердце\n"
     ]
    }
   ],
   "source": [
    "for name, group in groups:\n",
    "    print(name)"
   ]
  },
  {
   "cell_type": "code",
   "execution_count": 7,
   "id": "8292a8d5",
   "metadata": {},
   "outputs": [],
   "source": [
    "symbols = (u\"абвгдеёжзийклмнопрстуфхцчшщъыьэюяАБВГДЕЁЖЗИЙКЛМНОПРСТУФХЦЧШЩЪЫЬЭЮЯ\",\n",
    "           u\"abvgdeejzijklmnoprstufhzcss_y_euaABVGDEEJZIJKLMNOPRSTUFHZCSS_Y_EUA\")\n",
    "tr = {ord(a):ord(b) for a, b in zip(*symbols)}"
   ]
  },
  {
   "cell_type": "code",
   "execution_count": 8,
   "id": "ceabd3f9",
   "metadata": {},
   "outputs": [
    {
     "data": {
      "text/plain": [
       "'Sobac_e_serdze'"
      ]
     },
     "execution_count": 8,
     "metadata": {},
     "output_type": "execute_result"
    }
   ],
   "source": [
    "name.translate(tr).replace(' ', '_')"
   ]
  },
  {
   "cell_type": "code",
   "execution_count": 22,
   "id": "b8462f28",
   "metadata": {},
   "outputs": [],
   "source": [
    "os.makedirs('data/brat')"
   ]
  },
  {
   "cell_type": "code",
   "execution_count": 14,
   "id": "3c71dc0d",
   "metadata": {},
   "outputs": [],
   "source": [
    "for name, group in groups:\n",
    "    with open(os.path.join('data', 'brat', name.translate(tr).replace(' ', '_').lower() + '.txt'), 'w') as f:\n",
    "        text = '\\r\\n'.join(group.sort_values('INPUT:id', axis=0)['INPUT:text'].unique())\n",
    "        f.write(text)"
   ]
  },
  {
   "cell_type": "code",
   "execution_count": 11,
   "id": "86794871",
   "metadata": {},
   "outputs": [
    {
     "name": "stdout",
     "output_type": "stream",
     "text": [
      "12_stul_ev.ann                  oblomov.ann\r\n",
      "12_stul_ev.txt                  oblomov.txt\r\n",
      "anna_karenina.ann               otza_i_deti.ann\r\n",
      "anna_karenina.txt               otza_i_deti.txt\r\n",
      "geroj_nasego_vremeni.ann        prestuplenie_i_nakazanie.ann\r\n",
      "geroj_nasego_vremeni.txt        prestuplenie_i_nakazanie.txt\r\n",
      "ledi_makbet_mzenskogo_uezda.ann sobac_e_serdze.ann\r\n",
      "ledi_makbet_mzenskogo_uezda.txt sobac_e_serdze.txt\r\n",
      "master_i_margarita.ann          vojna_i_mir.ann\r\n",
      "master_i_margarita.txt          vojna_i_mir.txt\r\n"
     ]
    }
   ],
   "source": [
    "!ls data/brat"
   ]
  },
  {
   "cell_type": "code",
   "execution_count": 12,
   "id": "3aa6d992",
   "metadata": {},
   "outputs": [
    {
     "data": {
      "text/plain": [
       "'{\"label\":\"per\"\\\\,\"offset\":743\\\\,\"length\":4\\\\,\"segment\":\"Влас\"},{\"label\":\"pro\"\\\\,\"offset\":772\\\\,\"length\":2\\\\,\"segment\":\"он\"},{\"label\":\"per\"\\\\,\"offset\":888\\\\,\"length\":4\\\\,\"segment\":\"Влас\"},{\"label\":\"pro\"\\\\,\"offset\":934\\\\,\"length\":3\\\\,\"segment\":\"ему\"},{\"label\":\"per_oblique\"\\\\,\"offset\":972\\\\,\"length\":8\\\\,\"segment\":\"личность\"},{\"label\":\"per_oblique\"\\\\,\"offset\":990\\\\,\"length\":5\\\\,\"segment\":\"повар\"}'"
      ]
     },
     "execution_count": 12,
     "metadata": {},
     "output_type": "execute_result"
    }
   ],
   "source": [
    "group.iloc[3]['OUTPUT:result']"
   ]
  },
  {
   "cell_type": "code",
   "execution_count": 16,
   "id": "d40c1045",
   "metadata": {},
   "outputs": [],
   "source": [
    "#T0\tPER 287 297\ta stranger\n",
    "for name, group in groups:\n",
    "    cur_mention = 0\n",
    "    group = group.sort_values('INPUT:id', axis=0)\n",
    "    fulltext = '\\r\\n'.join(group.sort_values('INPUT:id', axis=0)['INPUT:text'].unique())\n",
    "    offsets = []\n",
    "    with open(os.path.join('brat-1.3p1', 'data', name.translate(tr).replace(' ', '_').lower() + '.ann'), 'w') as f:\n",
    "        for ind, subgroup in group.groupby('INPUT:id'):\n",
    "            if not offsets:\n",
    "                cur_offset = 0\n",
    "            else:\n",
    "                cur_offset = offsets[-1]\n",
    "            par_annotations = []\n",
    "            for _, row in subgroup.iterrows():\n",
    "                if not pd.isna(row['OUTPUT:result']) and row['ASSIGNMENT:status'] != 'REJECTED':\n",
    "                    par_annotations.extend(json.loads('[' + row['OUTPUT:result'].replace('\\\\', '') + ']'))\n",
    "            par_annotations = sorted(par_annotations, key=lambda x: x['offset'])\n",
    "            for annotation in par_annotations:\n",
    "                start = cur_offset+annotation['offset']\n",
    "                end = cur_offset+annotation['offset']+annotation['length']\n",
    "                text = fulltext[start:end]\n",
    "                if annotation['label'] == 'per':\n",
    "                    f.write('\\t'.join([f'T{cur_mention}', f'PROP_PER {start} {end}', text]))\n",
    "                elif annotation['label'] == 'per_oblique':\n",
    "                    f.write('\\t'.join([f'T{cur_mention}', f'NOM_PER {start} {end}', text]))\n",
    "                elif annotation['label'] == 'pro':\n",
    "                    f.write('\\t'.join([f'T{cur_mention}', f'PRON_PER {start} {end}', text]))\n",
    "                f.write('\\n')\n",
    "                cur_mention += 1\n",
    "            offsets.append(len(row['INPUT:text'])+cur_offset+2)"
   ]
  },
  {
   "cell_type": "code",
   "execution_count": null,
   "id": "c064de66",
   "metadata": {},
   "outputs": [],
   "source": []
  }
 ],
 "metadata": {
  "kernelspec": {
   "display_name": "Python 3 (ipykernel)",
   "language": "python",
   "name": "python3"
  },
  "language_info": {
   "codemirror_mode": {
    "name": "ipython",
    "version": 3
   },
   "file_extension": ".py",
   "mimetype": "text/x-python",
   "name": "python",
   "nbconvert_exporter": "python",
   "pygments_lexer": "ipython3",
   "version": "3.11.4"
  }
 },
 "nbformat": 4,
 "nbformat_minor": 5
}
