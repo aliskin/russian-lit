{
 "cells": [
  {
   "cell_type": "code",
   "execution_count": 1,
   "id": "ee4083a9",
   "metadata": {},
   "outputs": [],
   "source": [
    "import json\n",
    "import pandas as pd"
   ]
  },
  {
   "cell_type": "code",
   "execution_count": 16,
   "id": "6de17693",
   "metadata": {},
   "outputs": [],
   "source": [
    "import numpy as np\n",
    "import matplotlib.pyplot as plt"
   ]
  },
  {
   "cell_type": "code",
   "execution_count": 28,
   "id": "aef4f74f",
   "metadata": {},
   "outputs": [],
   "source": [
    "import os"
   ]
  },
  {
   "cell_type": "code",
   "execution_count": 8,
   "id": "f8592f9c",
   "metadata": {},
   "outputs": [
    {
     "name": "stdout",
     "output_type": "stream",
     "text": [
      "post-acceptance-1.tsv results-1-final.tsv   results-2-final.tsv\r\n"
     ]
    }
   ],
   "source": [
    "!ls data/results/"
   ]
  },
  {
   "cell_type": "code",
   "execution_count": 9,
   "id": "25ebbc95",
   "metadata": {},
   "outputs": [],
   "source": [
    "df_1 = pd.read_csv('data/results/results-1-final.tsv', sep='\\t')\n",
    "df_2 = pd.read_csv('data/results/results-2-final.tsv', sep='\\t')\n",
    "df = pd.concat([df_1, df_2])"
   ]
  },
  {
   "cell_type": "code",
   "execution_count": 10,
   "id": "b71e4386",
   "metadata": {},
   "outputs": [
    {
     "data": {
      "text/plain": [
       "325"
      ]
     },
     "execution_count": 10,
     "metadata": {},
     "output_type": "execute_result"
    }
   ],
   "source": [
    "len(df)"
   ]
  },
  {
   "cell_type": "code",
   "execution_count": 11,
   "id": "2b975eab",
   "metadata": {},
   "outputs": [
    {
     "data": {
      "text/html": [
       "<div>\n",
       "<style scoped>\n",
       "    .dataframe tbody tr th:only-of-type {\n",
       "        vertical-align: middle;\n",
       "    }\n",
       "\n",
       "    .dataframe tbody tr th {\n",
       "        vertical-align: top;\n",
       "    }\n",
       "\n",
       "    .dataframe thead th {\n",
       "        text-align: right;\n",
       "    }\n",
       "</style>\n",
       "<table border=\"1\" class=\"dataframe\">\n",
       "  <thead>\n",
       "    <tr style=\"text-align: right;\">\n",
       "      <th></th>\n",
       "      <th>INPUT:id</th>\n",
       "      <th>INPUT:url</th>\n",
       "      <th>INPUT:name</th>\n",
       "      <th>INPUT:text</th>\n",
       "      <th>INPUT:title</th>\n",
       "      <th>OUTPUT:no_per</th>\n",
       "      <th>OUTPUT:result</th>\n",
       "      <th>GOLDEN:no_per</th>\n",
       "      <th>GOLDEN:result</th>\n",
       "      <th>HINT:text</th>\n",
       "      <th>HINT:default_language</th>\n",
       "      <th>ASSIGNMENT:task_id</th>\n",
       "      <th>ASSIGNMENT:assignment_id</th>\n",
       "      <th>ASSIGNMENT:worker_id</th>\n",
       "      <th>ASSIGNMENT:status</th>\n",
       "      <th>ACCEPT:verdict</th>\n",
       "      <th>ACCEPT:comment</th>\n",
       "    </tr>\n",
       "  </thead>\n",
       "  <tbody>\n",
       "    <tr>\n",
       "      <th>0</th>\n",
       "      <td>9</td>\n",
       "      <td>https://ru.wikisource.org/wiki/Война_и_мир_(То...</td>\n",
       "      <td>Князь Василий Курагин</td>\n",
       "      <td>И он с теми свободными и фамильярными, грациоз...</td>\n",
       "      <td>Война и мир</td>\n",
       "      <td>NaN</td>\n",
       "      <td>{\"label\":\"pro\"\\,\"offset\":2\\,\"length\":2\\,\"segme...</td>\n",
       "      <td>NaN</td>\n",
       "      <td>NaN</td>\n",
       "      <td>NaN</td>\n",
       "      <td>NaN</td>\n",
       "      <td>0002427d51--63f9e6a26e98d13e2ac08bc3</td>\n",
       "      <td>0002427d51--63fa06848b2e143ff7e92ea1</td>\n",
       "      <td>5e7d747e7586f521ad660369d9c84a79</td>\n",
       "      <td>APPROVED</td>\n",
       "      <td>+</td>\n",
       "      <td>NaN</td>\n",
       "    </tr>\n",
       "  </tbody>\n",
       "</table>\n",
       "</div>"
      ],
      "text/plain": [
       "   INPUT:id                                          INPUT:url  \\\n",
       "0         9  https://ru.wikisource.org/wiki/Война_и_мир_(То...   \n",
       "\n",
       "              INPUT:name                                         INPUT:text  \\\n",
       "0  Князь Василий Курагин  И он с теми свободными и фамильярными, грациоз...   \n",
       "\n",
       "   INPUT:title OUTPUT:no_per  \\\n",
       "0  Война и мир           NaN   \n",
       "\n",
       "                                       OUTPUT:result  GOLDEN:no_per  \\\n",
       "0  {\"label\":\"pro\"\\,\"offset\":2\\,\"length\":2\\,\"segme...            NaN   \n",
       "\n",
       "   GOLDEN:result  HINT:text  HINT:default_language  \\\n",
       "0            NaN        NaN                    NaN   \n",
       "\n",
       "                     ASSIGNMENT:task_id              ASSIGNMENT:assignment_id  \\\n",
       "0  0002427d51--63f9e6a26e98d13e2ac08bc3  0002427d51--63fa06848b2e143ff7e92ea1   \n",
       "\n",
       "               ASSIGNMENT:worker_id ASSIGNMENT:status ACCEPT:verdict  \\\n",
       "0  5e7d747e7586f521ad660369d9c84a79          APPROVED              +   \n",
       "\n",
       "   ACCEPT:comment  \n",
       "0             NaN  "
      ]
     },
     "execution_count": 11,
     "metadata": {},
     "output_type": "execute_result"
    }
   ],
   "source": [
    "df.head(1)"
   ]
  },
  {
   "cell_type": "code",
   "execution_count": 12,
   "id": "c8555472",
   "metadata": {},
   "outputs": [
    {
     "data": {
      "text/plain": [
       "SUBMITTED    290\n",
       "APPROVED      35\n",
       "Name: ASSIGNMENT:status, dtype: int64"
      ]
     },
     "execution_count": 12,
     "metadata": {},
     "output_type": "execute_result"
    }
   ],
   "source": [
    "df['ASSIGNMENT:status'].value_counts()"
   ]
  },
  {
   "cell_type": "code",
   "execution_count": 15,
   "id": "d389ee85",
   "metadata": {},
   "outputs": [
    {
     "data": {
      "text/plain": [
       "True    2\n",
       "Name: OUTPUT:no_per, dtype: int64"
      ]
     },
     "execution_count": 15,
     "metadata": {},
     "output_type": "execute_result"
    }
   ],
   "source": [
    "df['OUTPUT:no_per'].value_counts()"
   ]
  },
  {
   "cell_type": "code",
   "execution_count": 18,
   "id": "dab7b964",
   "metadata": {},
   "outputs": [],
   "source": [
    "lens = []\n",
    "annotations = []\n",
    "for _, row in df.iterrows():\n",
    "    if not pd.isna(row['OUTPUT:result']):\n",
    "        annotation = json.loads('[' + row['OUTPUT:result'].replace('\\\\', '') + ']')\n",
    "        lens.append(len(annotation))\n",
    "        annotations.append(annotation)\n",
    "    else:\n",
    "        lens.append(0)\n",
    "        annotations.append([])"
   ]
  },
  {
   "cell_type": "code",
   "execution_count": 20,
   "id": "7f2224cc",
   "metadata": {},
   "outputs": [
    {
     "name": "stdout",
     "output_type": "stream",
     "text": [
      "25 7.009230769230769\n"
     ]
    }
   ],
   "source": [
    "lens = np.array(lens)\n",
    "print(max(lens), np.mean(lens))"
   ]
  },
  {
   "cell_type": "code",
   "execution_count": 21,
   "id": "3e720a4e",
   "metadata": {},
   "outputs": [
    {
     "data": {
      "text/plain": [
       "array([ 2, 23, 38, 29, 26, 23, 20, 28, 25, 22, 15, 18, 18, 10,  8,  6,  1,\n",
       "        3,  6,  1,  1,  0,  0,  0,  1,  1])"
      ]
     },
     "execution_count": 21,
     "metadata": {},
     "output_type": "execute_result"
    }
   ],
   "source": [
    "np.bincount(lens)"
   ]
  },
  {
   "cell_type": "code",
   "execution_count": 23,
   "id": "44bb4559",
   "metadata": {},
   "outputs": [
    {
     "data": {
      "text/plain": [
       "(array([ 2., 23., 38., 29., 26., 23., 20., 28., 25., 22., 15., 18., 18.,\n",
       "        10.,  8.,  6.,  1.,  3.,  6.,  1.,  1.,  0.,  0.,  0.,  1.,  1.]),\n",
       " array([ 0.        ,  0.96153846,  1.92307692,  2.88461538,  3.84615385,\n",
       "         4.80769231,  5.76923077,  6.73076923,  7.69230769,  8.65384615,\n",
       "         9.61538462, 10.57692308, 11.53846154, 12.5       , 13.46153846,\n",
       "        14.42307692, 15.38461538, 16.34615385, 17.30769231, 18.26923077,\n",
       "        19.23076923, 20.19230769, 21.15384615, 22.11538462, 23.07692308,\n",
       "        24.03846154, 25.        ]),\n",
       " <BarContainer object of 26 artists>)"
      ]
     },
     "execution_count": 23,
     "metadata": {},
     "output_type": "execute_result"
    },
    {
     "data": {
      "image/png": "[encoded data removed]",
      "text/plain": [
       "<Figure size 432x288 with 1 Axes>"
      ]
     },
     "metadata": {
      "needs_background": "light"
     },
     "output_type": "display_data"
    }
   ],
   "source": [
    "plt.hist(lens, bins=26)"
   ]
  },
  {
   "cell_type": "code",
   "execution_count": 24,
   "id": "f84eb54e",
   "metadata": {},
   "outputs": [
    {
     "data": {
      "text/plain": [
       "2278"
      ]
     },
     "execution_count": 24,
     "metadata": {},
     "output_type": "execute_result"
    }
   ],
   "source": [
    "sum(lens)"
   ]
  },
  {
   "cell_type": "code",
   "execution_count": 25,
   "id": "5f519f32",
   "metadata": {},
   "outputs": [
    {
     "data": {
      "text/plain": [
       "7.0"
      ]
     },
     "execution_count": 25,
     "metadata": {},
     "output_type": "execute_result"
    }
   ],
   "source": [
    "np.median(lens)"
   ]
  },
  {
   "cell_type": "code",
   "execution_count": 26,
   "id": "119ef440",
   "metadata": {},
   "outputs": [],
   "source": [
    "groups = df.groupby('INPUT:title')"
   ]
  },
  {
   "cell_type": "code",
   "execution_count": 27,
   "id": "2d961085",
   "metadata": {},
   "outputs": [
    {
     "name": "stdout",
     "output_type": "stream",
     "text": [
      "/Users/zero/russian-lit\r\n"
     ]
    }
   ],
   "source": [
    "!pwd"
   ]
  },
  {
   "cell_type": "code",
   "execution_count": 29,
   "id": "cacd9506",
   "metadata": {},
   "outputs": [],
   "source": [
    "os.makedirs('brat-1.3p1/data/evaluation')"
   ]
  },
  {
   "cell_type": "code",
   "execution_count": 30,
   "id": "9d8d4d06",
   "metadata": {},
   "outputs": [],
   "source": [
    "PATH = 'brat-1.3p1/data/evaluation'"
   ]
  },
  {
   "cell_type": "code",
   "execution_count": 31,
   "id": "93c90c89",
   "metadata": {},
   "outputs": [],
   "source": [
    "rng = np.random.default_rng()"
   ]
  },
  {
   "cell_type": "code",
   "execution_count": 32,
   "id": "fff94cfa",
   "metadata": {},
   "outputs": [],
   "source": [
    "symbols = (u\"абвгдеёжзийклмнопрстуфхцчшщъыьэюяАБВГДЕЁЖЗИЙКЛМНОПРСТУФХЦЧШЩЪЫЬЭЮЯ\",\n",
    "           u\"abvgdeejzijklmnoprstufhzcss_y_euaABVGDEEJZIJKLMNOPRSTUFHZCSS_Y_EUA\")\n",
    "tr = {ord(a):ord(b) for a, b in zip(*symbols)}"
   ]
  },
  {
   "cell_type": "code",
   "execution_count": 53,
   "id": "38fbf89c",
   "metadata": {},
   "outputs": [
    {
     "data": {
      "text/plain": [
       "array([19, 11])"
      ]
     },
     "execution_count": 53,
     "metadata": {},
     "output_type": "execute_result"
    }
   ],
   "source": [
    "rng = np.random.default_rng(31)\n",
    "rng.choice(range(len(group)), size=2, replace=False)"
   ]
  },
  {
   "cell_type": "code",
   "execution_count": 62,
   "id": "ca54c0b1",
   "metadata": {},
   "outputs": [
    {
     "name": "stdout",
     "output_type": "stream",
     "text": [
      "36 Мадам Кузнецова\n",
      "21 Молодой мужчина в пиджаке\n",
      "1 Облонская, Дарья Александровна (Долли), жена Степана Аркадьевича\n",
      "12 Матвей, камердинер Степана Аркадьевича Облонского\n",
      "11 Елена Васильевна Курагина, дочь князя Василия Курагина\n",
      "1 Князь Василий Курагин\n",
      "24 Княжна Мери, дочь княгини Лиговской\n",
      "23 княгиня Лиговская\n",
      "6 Катерина Львовна Измайлова\n",
      "1 Катерина Львовна Измайлова\n",
      "9 Поэт Иван Николаевич Понырев (Бездомный)\n",
      "49 Воланд (\"иностранец\", \"неизвестный\")\n",
      "11 Захар, слуга Обломова\n",
      "21 Илья Ильич Обломов\n",
      "15 Мария Кирсанова, жена Николая Петровича Кирсанова\n",
      "22 Евгений Васильевич Базаров\n",
      "16 Алёна Ивановна, старуха-процентщица\n",
      "1 Родион Раскольников\n",
      "5 Пес Шарик\n",
      "4 Пес Шарик\n"
     ]
    }
   ],
   "source": [
    "rng = np.random.default_rng(31)\n",
    "for name, group in groups:\n",
    "    group = group.sort_values('INPUT:id', axis=0)\n",
    "    to_eval = rng.choice(range(len(group)), size=2, replace=False)\n",
    "    for ind in to_eval:\n",
    "        row = group.iloc[ind]\n",
    "        with open(os.path.join(PATH, name.translate(tr).replace(' ', '_').lower() + str(ind) + '.txt'), 'w') as f:\n",
    "            f.write(row['INPUT:text'])\n",
    "        annotations = json.loads('[' + row['OUTPUT:result'].replace('\\\\', '') + ']')\n",
    "        cur_mention = 0\n",
    "        print(ind, row['INPUT:name'])\n",
    "        with open(os.path.join(PATH, name.translate(tr).replace(' ', '_').lower() + str(ind) + '.ann'), 'w') as f:\n",
    "            for annotation in annotations:\n",
    "                start = annotation['offset']\n",
    "                end = annotation['offset']+annotation['length']\n",
    "                mention = row['INPUT:text'][start:end]\n",
    "                if annotation['label'] == 'per':\n",
    "                    f.write('\\t'.join([f'T{cur_mention}', f'PROP_PER {start} {end}', mention]))\n",
    "                elif annotation['label'] == 'per_oblique':\n",
    "                    f.write('\\t'.join([f'T{cur_mention}', f'NOM_PER {start} {end}', mention]))\n",
    "                elif annotation['label'] == 'pro':\n",
    "                    f.write('\\t'.join([f'T{cur_mention}', f'PRON_PER {start} {end}', mention]))\n",
    "                f.write('\\n')\n",
    "                cur_mention += 1"
   ]
  },
  {
   "cell_type": "code",
   "execution_count": 64,
   "id": "43ff6742",
   "metadata": {},
   "outputs": [
    {
     "data": {
      "text/plain": [
       "325"
      ]
     },
     "execution_count": 64,
     "metadata": {},
     "output_type": "execute_result"
    }
   ],
   "source": [
    "df['ASSIGNMENT:task_id'].nunique()"
   ]
  },
  {
   "cell_type": "code",
   "execution_count": 67,
   "id": "f5727964",
   "metadata": {},
   "outputs": [
    {
     "data": {
      "text/plain": [
       "array([15, 15, 15, 15, 15, 15, 16, 17, 17, 17, 18, 18, 18, 18, 18, 18, 19,\n",
       "       20, 24, 25])"
      ]
     },
     "execution_count": 67,
     "metadata": {},
     "output_type": "execute_result"
    }
   ],
   "source": [
    "np.sort(lens)[-20:]"
   ]
  },
  {
   "cell_type": "code",
   "execution_count": 72,
   "id": "4023d28f",
   "metadata": {},
   "outputs": [
    {
     "data": {
      "text/plain": [
       "353"
      ]
     },
     "execution_count": 72,
     "metadata": {},
     "output_type": "execute_result"
    }
   ],
   "source": [
    "sum(np.sort(lens)[-20:])"
   ]
  },
  {
   "cell_type": "code",
   "execution_count": 73,
   "id": "dda256b5",
   "metadata": {},
   "outputs": [
    {
     "data": {
      "text/plain": [
       "353"
      ]
     },
     "execution_count": 73,
     "metadata": {},
     "output_type": "execute_result"
    }
   ],
   "source": [
    "337 + 16"
   ]
  },
  {
   "cell_type": "code",
   "execution_count": 68,
   "id": "3499f069",
   "metadata": {},
   "outputs": [
    {
     "data": {
      "text/plain": [
       "array([250,  26, 314, 274, 288, 178,  75, 126, 169, 132, 228,  52, 172,\n",
       "       131, 241,  51,  65, 321,   1, 175])"
      ]
     },
     "execution_count": 68,
     "metadata": {},
     "output_type": "execute_result"
    }
   ],
   "source": [
    "np.argsort(lens)[-20:]"
   ]
  },
  {
   "cell_type": "code",
   "execution_count": 71,
   "id": "3566e758",
   "metadata": {},
   "outputs": [
    {
     "name": "stdout",
     "output_type": "stream",
     "text": [
      "250 Захар, слуга Обломова\n",
      "26 Николай Петрович Кирсанов\n",
      "314 Катерина Львовна Измайлова\n",
      "274 Филипп Филиппович Преображенский \n",
      "288 Катерина Львовна Измайлова\n",
      "178 Воланд (\"иностранец\", \"неизвестный\")\n",
      "75 Грушницкий\n",
      "126 Николай Петрович Кирсанов\n",
      "169 Воланд (\"иностранец\", \"неизвестный\")\n",
      "132 Михаил Александрович Берлиоз\n",
      "228 Воланд (\"иностранец\", \"неизвестный\")\n",
      "52 Князь Василий Курагин\n",
      "172 Поэт Иван Николаевич Понырев (Бездомный)\n",
      "131 Анна Павловна Шерер\n",
      "241 Захар, слуга Обломова\n",
      "51 Грушницкий\n",
      "65 Родион Раскольников\n",
      "321 Катерина Львовна Измайлова\n",
      "1 Степан Аркадьевич Облонский\n",
      "175 Воланд (\"иностранец\", \"неизвестный\")\n"
     ]
    }
   ],
   "source": [
    "for ind in np.argsort(lens)[-20:]:\n",
    "    row = df.iloc[ind]\n",
    "    with open(os.path.join(\n",
    "        PATH, row['INPUT:title'].translate(tr).replace(' ', '_').lower() + '_' + 'max' + '_' + str(ind) + '.txt'), \n",
    "              'w') as f:\n",
    "        f.write(row['INPUT:text'])\n",
    "    annotations = json.loads('[' + row['OUTPUT:result'].replace('\\\\', '') + ']')\n",
    "    cur_mention = 0\n",
    "    print(ind, row['INPUT:name'])\n",
    "    with open(os.path.join(PATH, row['INPUT:title'].translate(tr).replace(' ', '_').lower() + '_' + 'max' + '_' + str(ind) + '.ann'), 'w') as f:\n",
    "        for annotation in annotations:\n",
    "            start = annotation['offset']\n",
    "            end = annotation['offset']+annotation['length']\n",
    "            mention = row['INPUT:text'][start:end]\n",
    "            if annotation['label'] == 'per':\n",
    "                f.write('\\t'.join([f'T{cur_mention}', f'PROP_PER {start} {end}', mention]))\n",
    "            elif annotation['label'] == 'per_oblique':\n",
    "                f.write('\\t'.join([f'T{cur_mention}', f'NOM_PER {start} {end}', mention]))\n",
    "            elif annotation['label'] == 'pro':\n",
    "                f.write('\\t'.join([f'T{cur_mention}', f'PRON_PER {start} {end}', mention]))\n",
    "            f.write('\\n')\n",
    "            cur_mention += 1"
   ]
  },
  {
   "cell_type": "code",
   "execution_count": 75,
   "id": "78ab3d6a",
   "metadata": {},
   "outputs": [],
   "source": [
    "annotations = []\n",
    "for _, row in df.iterrows():\n",
    "    if not pd.isna(row['OUTPUT:result']) and row['ASSIGNMENT:status'] != 'REJECTED':\n",
    "        annotations.extend(json.loads('[' + row['OUTPUT:result'].replace('\\\\', '') + ']'))"
   ]
  },
  {
   "cell_type": "code",
   "execution_count": 82,
   "id": "d71f6afe",
   "metadata": {},
   "outputs": [
    {
     "data": {
      "text/plain": [
       "[{'label': 'pro', 'offset': 2, 'length': 2, 'segment': 'он'},\n",
       " {'label': 'pro', 'offset': 71, 'length': 3, 'segment': 'его'},\n",
       " {'label': 'pro', 'offset': 349, 'length': 5, 'segment': 'вашем'},\n",
       " {'label': 'per', 'offset': 9, 'length': 15, 'segment': 'Степан Аркадьич'},\n",
       " {'label': 'per_oblique',\n",
       "  'offset': 29,\n",
       "  'length': 17,\n",
       "  'segment': 'человек правдивый'}]"
      ]
     },
     "execution_count": 82,
     "metadata": {},
     "output_type": "execute_result"
    }
   ],
   "source": [
    "annotations[:5]"
   ]
  },
  {
   "cell_type": "code",
   "execution_count": 79,
   "id": "ee28c8a1",
   "metadata": {},
   "outputs": [],
   "source": [
    "from collections import Counter"
   ]
  },
  {
   "cell_type": "code",
   "execution_count": 80,
   "id": "14b4242e",
   "metadata": {},
   "outputs": [],
   "source": [
    "c = Counter([ann['label'] for ann in annotations])"
   ]
  },
  {
   "cell_type": "code",
   "execution_count": 81,
   "id": "27c45aa6",
   "metadata": {},
   "outputs": [
    {
     "data": {
      "text/plain": [
       "[('pro', 1240), ('per', 572), ('per_oblique', 466)]"
      ]
     },
     "execution_count": 81,
     "metadata": {},
     "output_type": "execute_result"
    }
   ],
   "source": [
    "c.most_common()"
   ]
  },
  {
   "cell_type": "code",
   "execution_count": 86,
   "id": "560b85b1",
   "metadata": {},
   "outputs": [],
   "source": [
    "s = 1240 + 572 + 466"
   ]
  },
  {
   "cell_type": "code",
   "execution_count": 87,
   "id": "3ab732e7",
   "metadata": {},
   "outputs": [
    {
     "data": {
      "text/plain": [
       "0.2510974539069359"
      ]
     },
     "execution_count": 87,
     "metadata": {},
     "output_type": "execute_result"
    }
   ],
   "source": [
    "572 / s"
   ]
  },
  {
   "cell_type": "code",
   "execution_count": 88,
   "id": "41c9e945",
   "metadata": {},
   "outputs": [
    {
     "data": {
      "text/plain": [
       "0.20456540825285338"
      ]
     },
     "execution_count": 88,
     "metadata": {},
     "output_type": "execute_result"
    }
   ],
   "source": [
    "466 / s"
   ]
  },
  {
   "cell_type": "code",
   "execution_count": 89,
   "id": "cda3fe52",
   "metadata": {},
   "outputs": [
    {
     "data": {
      "text/plain": [
       "0.5443371378402108"
      ]
     },
     "execution_count": 89,
     "metadata": {},
     "output_type": "execute_result"
    }
   ],
   "source": [
    "1240 / s"
   ]
  },
  {
   "cell_type": "code",
   "execution_count": 90,
   "id": "ea309aa9",
   "metadata": {},
   "outputs": [],
   "source": [
    "import crowdkit"
   ]
  },
  {
   "cell_type": "code",
   "execution_count": 91,
   "id": "41f45aca",
   "metadata": {},
   "outputs": [
    {
     "name": "stdout",
     "output_type": "stream",
     "text": [
      "n_mentions_distr.png  results-1-final.tsv\r\n",
      "post-acceptance-1.tsv results-2-final.tsv\r\n"
     ]
    }
   ],
   "source": [
    "!ls data/results"
   ]
  },
  {
   "cell_type": "code",
   "execution_count": 92,
   "id": "0b9451de",
   "metadata": {},
   "outputs": [],
   "source": [
    "post_acc_df = pd.read_csv('data/results/post-acceptance-1.tsv', sep='\\t')"
   ]
  },
  {
   "cell_type": "code",
   "execution_count": 93,
   "id": "be065eb3",
   "metadata": {},
   "outputs": [
    {
     "data": {
      "text/html": [
       "<div>\n",
       "<style scoped>\n",
       "    .dataframe tbody tr th:only-of-type {\n",
       "        vertical-align: middle;\n",
       "    }\n",
       "\n",
       "    .dataframe tbody tr th {\n",
       "        vertical-align: top;\n",
       "    }\n",
       "\n",
       "    .dataframe thead th {\n",
       "        text-align: right;\n",
       "    }\n",
       "</style>\n",
       "<table border=\"1\" class=\"dataframe\">\n",
       "  <thead>\n",
       "    <tr style=\"text-align: right;\">\n",
       "      <th></th>\n",
       "      <th>INPUT:id</th>\n",
       "      <th>INPUT:url</th>\n",
       "      <th>INPUT:name</th>\n",
       "      <th>INPUT:text</th>\n",
       "      <th>INPUT:title</th>\n",
       "      <th>INPUT:no_per</th>\n",
       "      <th>INPUT:input_data</th>\n",
       "      <th>INPUT:assignment_id</th>\n",
       "      <th>OUTPUT:path</th>\n",
       "      <th>OUTPUT:no_per</th>\n",
       "      <th>OUTPUT:result</th>\n",
       "      <th>GOLDEN:path</th>\n",
       "      <th>GOLDEN:no_per</th>\n",
       "      <th>GOLDEN:result</th>\n",
       "      <th>HINT:text</th>\n",
       "      <th>HINT:default_language</th>\n",
       "      <th>ASSIGNMENT:task_id</th>\n",
       "      <th>ASSIGNMENT:assignment_id</th>\n",
       "      <th>ASSIGNMENT:worker_id</th>\n",
       "      <th>ASSIGNMENT:status</th>\n",
       "    </tr>\n",
       "  </thead>\n",
       "  <tbody>\n",
       "    <tr>\n",
       "      <th>0</th>\n",
       "      <td>8</td>\n",
       "      <td>https://ru.wikisource.org/wiki/Война_и_мир_(То...</td>\n",
       "      <td>княжна Мария Болконская, дочь князя Николая Бо...</td>\n",
       "      <td>- Вы никогда не думали о том, чтобы женить ваш...</td>\n",
       "      <td>Война и мир</td>\n",
       "      <td>NaN</td>\n",
       "      <td>{\"label\":\"per_oblique\"\\,\"offset\":194\\,\"length\"...</td>\n",
       "      <td>0002427d51--63faf5a77cf67476618899b2</td>\n",
       "      <td>yes</td>\n",
       "      <td>NaN</td>\n",
       "      <td>{\"label\":\"per_oblique\"\\,\"offset\":194\\,\"length\"...</td>\n",
       "      <td>NaN</td>\n",
       "      <td>NaN</td>\n",
       "      <td>NaN</td>\n",
       "      <td>NaN</td>\n",
       "      <td>NaN</td>\n",
       "      <td>000243b124--6400ae00882f737fd76437fe</td>\n",
       "      <td>000243b124--6400b2456775a424fdfd9ad7</td>\n",
       "      <td>2372f0cd068c72b466e2b2e7a80a5617</td>\n",
       "      <td>APPROVED</td>\n",
       "    </tr>\n",
       "    <tr>\n",
       "      <th>1</th>\n",
       "      <td>5</td>\n",
       "      <td>https://ilibrary.ru/text/69/p.1/index.html</td>\n",
       "      <td>Родион Раскольников</td>\n",
       "      <td>Он был до того худо одет, что иной, даже и при...</td>\n",
       "      <td>Преступление и наказание</td>\n",
       "      <td>NaN</td>\n",
       "      <td>{\"label\":\"pro\"\\,\"offset\":0\\,\"length\":2\\,\"segme...</td>\n",
       "      <td>0002427d51--63fa10b0870fa13968983811</td>\n",
       "      <td>yes</td>\n",
       "      <td>NaN</td>\n",
       "      <td>{\"label\":\"pro\"\\,\"offset\":0\\,\"length\":2\\,\"segme...</td>\n",
       "      <td>NaN</td>\n",
       "      <td>NaN</td>\n",
       "      <td>NaN</td>\n",
       "      <td>NaN</td>\n",
       "      <td>NaN</td>\n",
       "      <td>000243b124--6400ade0882f737fd76436d5</td>\n",
       "      <td>000243b124--6400b2456775a424fdfd9ad7</td>\n",
       "      <td>2372f0cd068c72b466e2b2e7a80a5617</td>\n",
       "      <td>APPROVED</td>\n",
       "    </tr>\n",
       "    <tr>\n",
       "      <th>2</th>\n",
       "      <td>14</td>\n",
       "      <td>https://ilibrary.ru/text/69/p.1/index.html</td>\n",
       "      <td>Родион Раскольников</td>\n",
       "      <td>Оглядевшись, он заметил, что стоит подле распи...</td>\n",
       "      <td>Преступление и наказание</td>\n",
       "      <td>NaN</td>\n",
       "      <td>{\"label\":\"pro\"\\,\"offset\":13\\,\"length\":2\\,\"segm...</td>\n",
       "      <td>0002427d51--63fae9d03d101946d968c4b4</td>\n",
       "      <td>yes</td>\n",
       "      <td>NaN</td>\n",
       "      <td>{\"label\":\"pro\"\\,\"offset\":13\\,\"length\":2\\,\"segm...</td>\n",
       "      <td>no</td>\n",
       "      <td>NaN</td>\n",
       "      <td>{\"label\":\"pro\"\\,\"offset\":13\\,\"length\":2\\,\"segm...</td>\n",
       "      <td>NaN</td>\n",
       "      <td>NaN</td>\n",
       "      <td>000243b124--6400a0f39b50e141bf1fb4b5</td>\n",
       "      <td>000243b124--6400b2456775a424fdfd9ad7</td>\n",
       "      <td>2372f0cd068c72b466e2b2e7a80a5617</td>\n",
       "      <td>APPROVED</td>\n",
       "    </tr>\n",
       "    <tr>\n",
       "      <th>3</th>\n",
       "      <td>6</td>\n",
       "      <td>https://ru.wikisource.org/wiki/Война_и_мир_(То...</td>\n",
       "      <td>Князь Василий Курагин</td>\n",
       "      <td>- Барон Функе рекомендован императрице-матери ...</td>\n",
       "      <td>Война и мир</td>\n",
       "      <td>NaN</td>\n",
       "      <td>{\"label\":\"per_oblique\"\\,\"offset\":467\\,\"length\"...</td>\n",
       "      <td>0002427d51--63fa83ae7658a9695759745a</td>\n",
       "      <td>yes</td>\n",
       "      <td>NaN</td>\n",
       "      <td>{\"label\":\"per_oblique\"\\,\"offset\":467\\,\"length\"...</td>\n",
       "      <td>NaN</td>\n",
       "      <td>NaN</td>\n",
       "      <td>NaN</td>\n",
       "      <td>NaN</td>\n",
       "      <td>NaN</td>\n",
       "      <td>000243b124--6400adeb882f737fd7643731</td>\n",
       "      <td>000243b124--6400b2456775a424fdfd9ad7</td>\n",
       "      <td>2372f0cd068c72b466e2b2e7a80a5617</td>\n",
       "      <td>APPROVED</td>\n",
       "    </tr>\n",
       "    <tr>\n",
       "      <th>4</th>\n",
       "      <td>9</td>\n",
       "      <td>https://ilibrary.ru/text/12/p.6/index.html</td>\n",
       "      <td>княгиня Лиговская</td>\n",
       "      <td>— Вот княгиня Лиговская, — сказал Грушницкий, ...</td>\n",
       "      <td>Герой нашего времени</td>\n",
       "      <td>NaN</td>\n",
       "      <td>{\"label\":\"per\"\\,\"offset\":6\\,\"length\":17\\,\"segm...</td>\n",
       "      <td>0002427d51--63fa0d9e945d675713333d3d</td>\n",
       "      <td>no</td>\n",
       "      <td>NaN</td>\n",
       "      <td>{\"label\":\"per\"\\,\"offset\":6\\,\"length\":17\\,\"segm...</td>\n",
       "      <td>NaN</td>\n",
       "      <td>NaN</td>\n",
       "      <td>NaN</td>\n",
       "      <td>NaN</td>\n",
       "      <td>NaN</td>\n",
       "      <td>000243b124--6400adde882f737fd76436c6</td>\n",
       "      <td>000243b124--6400b2e44289857a3fec4ed7</td>\n",
       "      <td>2372f0cd068c72b466e2b2e7a80a5617</td>\n",
       "      <td>APPROVED</td>\n",
       "    </tr>\n",
       "  </tbody>\n",
       "</table>\n",
       "</div>"
      ],
      "text/plain": [
       "   INPUT:id                                          INPUT:url  \\\n",
       "0         8  https://ru.wikisource.org/wiki/Война_и_мир_(То...   \n",
       "1         5         https://ilibrary.ru/text/69/p.1/index.html   \n",
       "2        14         https://ilibrary.ru/text/69/p.1/index.html   \n",
       "3         6  https://ru.wikisource.org/wiki/Война_и_мир_(То...   \n",
       "4         9         https://ilibrary.ru/text/12/p.6/index.html   \n",
       "\n",
       "                                          INPUT:name  \\\n",
       "0  княжна Мария Болконская, дочь князя Николая Бо...   \n",
       "1                                Родион Раскольников   \n",
       "2                                Родион Раскольников   \n",
       "3                              Князь Василий Курагин   \n",
       "4                                  княгиня Лиговская   \n",
       "\n",
       "                                          INPUT:text  \\\n",
       "0  - Вы никогда не думали о том, чтобы женить ваш...   \n",
       "1  Он был до того худо одет, что иной, даже и при...   \n",
       "2  Оглядевшись, он заметил, что стоит подле распи...   \n",
       "3  - Барон Функе рекомендован императрице-матери ...   \n",
       "4  — Вот княгиня Лиговская, — сказал Грушницкий, ...   \n",
       "\n",
       "                INPUT:title INPUT:no_per  \\\n",
       "0               Война и мир          NaN   \n",
       "1  Преступление и наказание          NaN   \n",
       "2  Преступление и наказание          NaN   \n",
       "3               Война и мир          NaN   \n",
       "4      Герой нашего времени          NaN   \n",
       "\n",
       "                                    INPUT:input_data  \\\n",
       "0  {\"label\":\"per_oblique\"\\,\"offset\":194\\,\"length\"...   \n",
       "1  {\"label\":\"pro\"\\,\"offset\":0\\,\"length\":2\\,\"segme...   \n",
       "2  {\"label\":\"pro\"\\,\"offset\":13\\,\"length\":2\\,\"segm...   \n",
       "3  {\"label\":\"per_oblique\"\\,\"offset\":467\\,\"length\"...   \n",
       "4  {\"label\":\"per\"\\,\"offset\":6\\,\"length\":17\\,\"segm...   \n",
       "\n",
       "                    INPUT:assignment_id OUTPUT:path OUTPUT:no_per  \\\n",
       "0  0002427d51--63faf5a77cf67476618899b2         yes           NaN   \n",
       "1  0002427d51--63fa10b0870fa13968983811         yes           NaN   \n",
       "2  0002427d51--63fae9d03d101946d968c4b4         yes           NaN   \n",
       "3  0002427d51--63fa83ae7658a9695759745a         yes           NaN   \n",
       "4  0002427d51--63fa0d9e945d675713333d3d          no           NaN   \n",
       "\n",
       "                                       OUTPUT:result GOLDEN:path  \\\n",
       "0  {\"label\":\"per_oblique\"\\,\"offset\":194\\,\"length\"...         NaN   \n",
       "1  {\"label\":\"pro\"\\,\"offset\":0\\,\"length\":2\\,\"segme...         NaN   \n",
       "2  {\"label\":\"pro\"\\,\"offset\":13\\,\"length\":2\\,\"segm...          no   \n",
       "3  {\"label\":\"per_oblique\"\\,\"offset\":467\\,\"length\"...         NaN   \n",
       "4  {\"label\":\"per\"\\,\"offset\":6\\,\"length\":17\\,\"segm...         NaN   \n",
       "\n",
       "   GOLDEN:no_per                                      GOLDEN:result  \\\n",
       "0            NaN                                                NaN   \n",
       "1            NaN                                                NaN   \n",
       "2            NaN  {\"label\":\"pro\"\\,\"offset\":13\\,\"length\":2\\,\"segm...   \n",
       "3            NaN                                                NaN   \n",
       "4            NaN                                                NaN   \n",
       "\n",
       "   HINT:text  HINT:default_language                    ASSIGNMENT:task_id  \\\n",
       "0        NaN                    NaN  000243b124--6400ae00882f737fd76437fe   \n",
       "1        NaN                    NaN  000243b124--6400ade0882f737fd76436d5   \n",
       "2        NaN                    NaN  000243b124--6400a0f39b50e141bf1fb4b5   \n",
       "3        NaN                    NaN  000243b124--6400adeb882f737fd7643731   \n",
       "4        NaN                    NaN  000243b124--6400adde882f737fd76436c6   \n",
       "\n",
       "               ASSIGNMENT:assignment_id              ASSIGNMENT:worker_id  \\\n",
       "0  000243b124--6400b2456775a424fdfd9ad7  2372f0cd068c72b466e2b2e7a80a5617   \n",
       "1  000243b124--6400b2456775a424fdfd9ad7  2372f0cd068c72b466e2b2e7a80a5617   \n",
       "2  000243b124--6400b2456775a424fdfd9ad7  2372f0cd068c72b466e2b2e7a80a5617   \n",
       "3  000243b124--6400b2456775a424fdfd9ad7  2372f0cd068c72b466e2b2e7a80a5617   \n",
       "4  000243b124--6400b2e44289857a3fec4ed7  2372f0cd068c72b466e2b2e7a80a5617   \n",
       "\n",
       "  ASSIGNMENT:status  \n",
       "0          APPROVED  \n",
       "1          APPROVED  \n",
       "2          APPROVED  \n",
       "3          APPROVED  \n",
       "4          APPROVED  "
      ]
     },
     "execution_count": 93,
     "metadata": {},
     "output_type": "execute_result"
    }
   ],
   "source": [
    "post_acc_df.head()"
   ]
  },
  {
   "cell_type": "code",
   "execution_count": 94,
   "id": "ca9887c1",
   "metadata": {},
   "outputs": [
    {
     "data": {
      "text/plain": [
       "yes    303\n",
       "no     187\n",
       "Name: OUTPUT:path, dtype: int64"
      ]
     },
     "execution_count": 94,
     "metadata": {},
     "output_type": "execute_result"
    }
   ],
   "source": [
    "post_acc_df['OUTPUT:path'].value_counts()"
   ]
  },
  {
   "cell_type": "code",
   "execution_count": 96,
   "id": "15405796",
   "metadata": {},
   "outputs": [
    {
     "name": "stderr",
     "output_type": "stream",
     "text": [
      "None of PyTorch, TensorFlow >= 2.0, or Flax have been found. Models won't be available and only tokenizers, configuration and file/data utilities can be used.\n"
     ]
    }
   ],
   "source": [
    "from crowdkit.aggregation import MajorityVote"
   ]
  },
  {
   "cell_type": "code",
   "execution_count": 101,
   "id": "eff78596",
   "metadata": {},
   "outputs": [],
   "source": [
    "post_acc_mv = post_acc_df[['ASSIGNMENT:task_id', 'ASSIGNMENT:worker_id', 'OUTPUT:path']].rename(\n",
    "{'ASSIGNMENT:task_id': 'task', 'ASSIGNMENT:worker_id': 'worker', 'OUTPUT:path': 'label'}, axis=1)"
   ]
  },
  {
   "cell_type": "code",
   "execution_count": 102,
   "id": "598f71b7",
   "metadata": {},
   "outputs": [],
   "source": [
    "result = MajorityVote().fit_predict(post_acc_mv)"
   ]
  },
  {
   "cell_type": "code",
   "execution_count": 104,
   "id": "99c23139",
   "metadata": {},
   "outputs": [
    {
     "data": {
      "text/plain": [
       "yes    90\n",
       "no     58\n",
       "Name: agg_label, dtype: int64"
      ]
     },
     "execution_count": 104,
     "metadata": {},
     "output_type": "execute_result"
    }
   ],
   "source": [
    "result.value_counts()"
   ]
  },
  {
   "cell_type": "code",
   "execution_count": 105,
   "id": "1b7fd72f",
   "metadata": {},
   "outputs": [],
   "source": [
    "from crowdkit.metrics.data._classification import alpha_krippendorff"
   ]
  },
  {
   "cell_type": "code",
   "execution_count": 106,
   "id": "3f18ab2c",
   "metadata": {},
   "outputs": [
    {
     "data": {
      "text/plain": [
       "0.18817881788178814"
      ]
     },
     "execution_count": 106,
     "metadata": {},
     "output_type": "execute_result"
    }
   ],
   "source": [
    "alpha_krippendorff(post_acc_mv)"
   ]
  },
  {
   "cell_type": "code",
   "execution_count": 108,
   "id": "11b1c727",
   "metadata": {},
   "outputs": [
    {
     "data": {
      "text/html": [
       "<div>\n",
       "<style scoped>\n",
       "    .dataframe tbody tr th:only-of-type {\n",
       "        vertical-align: middle;\n",
       "    }\n",
       "\n",
       "    .dataframe tbody tr th {\n",
       "        vertical-align: top;\n",
       "    }\n",
       "\n",
       "    .dataframe thead th {\n",
       "        text-align: right;\n",
       "    }\n",
       "</style>\n",
       "<table border=\"1\" class=\"dataframe\">\n",
       "  <thead>\n",
       "    <tr style=\"text-align: right;\">\n",
       "      <th>label</th>\n",
       "      <th>no</th>\n",
       "      <th>yes</th>\n",
       "    </tr>\n",
       "    <tr>\n",
       "      <th>task</th>\n",
       "      <th></th>\n",
       "      <th></th>\n",
       "    </tr>\n",
       "  </thead>\n",
       "  <tbody>\n",
       "    <tr>\n",
       "      <th>000243b124--6400a0f39b50e141bf1fb47e</th>\n",
       "      <td>0.500000</td>\n",
       "      <td>0.500000</td>\n",
       "    </tr>\n",
       "    <tr>\n",
       "      <th>000243b124--6400a0f39b50e141bf1fb48f</th>\n",
       "      <td>0.500000</td>\n",
       "      <td>0.500000</td>\n",
       "    </tr>\n",
       "    <tr>\n",
       "      <th>000243b124--6400a0f39b50e141bf1fb49e</th>\n",
       "      <td>0.500000</td>\n",
       "      <td>0.500000</td>\n",
       "    </tr>\n",
       "    <tr>\n",
       "      <th>000243b124--6400a0f39b50e141bf1fb4b5</th>\n",
       "      <td>0.500000</td>\n",
       "      <td>0.500000</td>\n",
       "    </tr>\n",
       "    <tr>\n",
       "      <th>000243b124--6400a0f49b50e141bf1fb4c7</th>\n",
       "      <td>0.000000</td>\n",
       "      <td>1.000000</td>\n",
       "    </tr>\n",
       "    <tr>\n",
       "      <th>...</th>\n",
       "      <td>...</td>\n",
       "      <td>...</td>\n",
       "    </tr>\n",
       "    <tr>\n",
       "      <th>000243b124--6400ae03882f737fd764383b</th>\n",
       "      <td>0.000000</td>\n",
       "      <td>1.000000</td>\n",
       "    </tr>\n",
       "    <tr>\n",
       "      <th>000243b124--6400ae03882f737fd764383f</th>\n",
       "      <td>0.666667</td>\n",
       "      <td>0.333333</td>\n",
       "    </tr>\n",
       "    <tr>\n",
       "      <th>000243b124--6400ae03882f737fd7643842</th>\n",
       "      <td>0.000000</td>\n",
       "      <td>1.000000</td>\n",
       "    </tr>\n",
       "    <tr>\n",
       "      <th>000243b124--6400ae04882f737fd7643844</th>\n",
       "      <td>0.666667</td>\n",
       "      <td>0.333333</td>\n",
       "    </tr>\n",
       "    <tr>\n",
       "      <th>000243b124--6400ae04882f737fd7643846</th>\n",
       "      <td>0.333333</td>\n",
       "      <td>0.666667</td>\n",
       "    </tr>\n",
       "  </tbody>\n",
       "</table>\n",
       "<p>148 rows × 2 columns</p>\n",
       "</div>"
      ],
      "text/plain": [
       "label                                       no       yes\n",
       "task                                                    \n",
       "000243b124--6400a0f39b50e141bf1fb47e  0.500000  0.500000\n",
       "000243b124--6400a0f39b50e141bf1fb48f  0.500000  0.500000\n",
       "000243b124--6400a0f39b50e141bf1fb49e  0.500000  0.500000\n",
       "000243b124--6400a0f39b50e141bf1fb4b5  0.500000  0.500000\n",
       "000243b124--6400a0f49b50e141bf1fb4c7  0.000000  1.000000\n",
       "...                                        ...       ...\n",
       "000243b124--6400ae03882f737fd764383b  0.000000  1.000000\n",
       "000243b124--6400ae03882f737fd764383f  0.666667  0.333333\n",
       "000243b124--6400ae03882f737fd7643842  0.000000  1.000000\n",
       "000243b124--6400ae04882f737fd7643844  0.666667  0.333333\n",
       "000243b124--6400ae04882f737fd7643846  0.333333  0.666667\n",
       "\n",
       "[148 rows x 2 columns]"
      ]
     },
     "execution_count": 108,
     "metadata": {},
     "output_type": "execute_result"
    }
   ],
   "source": [
    "MajorityVote().fit_predict_proba(post_acc_mv)"
   ]
  },
  {
   "cell_type": "code",
   "execution_count": 110,
   "id": "16666595",
   "metadata": {},
   "outputs": [
    {
     "data": {
      "text/plain": [
       "array([250,  26, 314, 274, 288, 178,  75, 126, 169, 132, 228,  52, 172,\n",
       "       131, 241,  51,  65, 321,   1, 175])"
      ]
     },
     "execution_count": 110,
     "metadata": {},
     "output_type": "execute_result"
    }
   ],
   "source": [
    "np.argsort(lens)[-20:]"
   ]
  },
  {
   "cell_type": "code",
   "execution_count": 115,
   "id": "8093beaa",
   "metadata": {},
   "outputs": [
    {
     "data": {
      "text/plain": [
       "Index(['INPUT:id', 'INPUT:url', 'INPUT:name', 'INPUT:text', 'INPUT:title',\n",
       "       'OUTPUT:no_per', 'OUTPUT:result', 'GOLDEN:no_per', 'GOLDEN:result',\n",
       "       'HINT:text', 'HINT:default_language', 'ASSIGNMENT:task_id',\n",
       "       'ASSIGNMENT:assignment_id', 'ASSIGNMENT:worker_id', 'ASSIGNMENT:status',\n",
       "       'ACCEPT:verdict', 'ACCEPT:comment'],\n",
       "      dtype='object')"
      ]
     },
     "execution_count": 115,
     "metadata": {},
     "output_type": "execute_result"
    }
   ],
   "source": [
    "df.keys()"
   ]
  },
  {
   "cell_type": "code",
   "execution_count": 118,
   "id": "0e6c23ea",
   "metadata": {},
   "outputs": [],
   "source": [
    "df.iloc[np.argsort(lens)[-20:]][['INPUT:id', 'INPUT:url', 'INPUT:name', 'INPUT:text', 'INPUT:title']].to_csv(\n",
    "    'data/for labeling/tasks_max_mentions.tsv', sep='\\t', index=False)"
   ]
  },
  {
   "cell_type": "code",
   "execution_count": 122,
   "id": "6f52b3b7",
   "metadata": {},
   "outputs": [
    {
     "name": "stdout",
     "output_type": "stream",
     "text": [
      "36\n",
      "21\n",
      "1\n",
      "12\n",
      "11\n",
      "1\n",
      "24\n",
      "23\n",
      "6\n",
      "1\n",
      "9\n",
      "49\n",
      "11\n",
      "21\n",
      "15\n",
      "22\n",
      "16\n",
      "1\n",
      "5\n",
      "4\n"
     ]
    }
   ],
   "source": [
    "rng = np.random.default_rng(31)\n",
    "random_tasks = []\n",
    "for name, group in groups:\n",
    "    group = group.sort_values('INPUT:id', axis=0)\n",
    "    to_eval = rng.choice(range(len(group)), size=2, replace=False)\n",
    "    for ind in to_eval:\n",
    "        random_tasks.append(group.iloc[ind])\n",
    "        print(ind)\n",
    "random_tasks = pd.DataFrame(random_tasks)"
   ]
  },
  {
   "cell_type": "code",
   "execution_count": 124,
   "id": "8d26379f",
   "metadata": {},
   "outputs": [
    {
     "data": {
      "text/html": [
       "<div>\n",
       "<style scoped>\n",
       "    .dataframe tbody tr th:only-of-type {\n",
       "        vertical-align: middle;\n",
       "    }\n",
       "\n",
       "    .dataframe tbody tr th {\n",
       "        vertical-align: top;\n",
       "    }\n",
       "\n",
       "    .dataframe thead th {\n",
       "        text-align: right;\n",
       "    }\n",
       "</style>\n",
       "<table border=\"1\" class=\"dataframe\">\n",
       "  <thead>\n",
       "    <tr style=\"text-align: right;\">\n",
       "      <th></th>\n",
       "      <th>INPUT:id</th>\n",
       "      <th>INPUT:url</th>\n",
       "      <th>INPUT:name</th>\n",
       "      <th>INPUT:text</th>\n",
       "      <th>INPUT:title</th>\n",
       "      <th>OUTPUT:no_per</th>\n",
       "      <th>OUTPUT:result</th>\n",
       "      <th>GOLDEN:no_per</th>\n",
       "      <th>GOLDEN:result</th>\n",
       "      <th>HINT:text</th>\n",
       "      <th>HINT:default_language</th>\n",
       "      <th>ASSIGNMENT:task_id</th>\n",
       "      <th>ASSIGNMENT:assignment_id</th>\n",
       "      <th>ASSIGNMENT:worker_id</th>\n",
       "      <th>ASSIGNMENT:status</th>\n",
       "      <th>ACCEPT:verdict</th>\n",
       "      <th>ACCEPT:comment</th>\n",
       "    </tr>\n",
       "  </thead>\n",
       "  <tbody>\n",
       "    <tr>\n",
       "      <th>85</th>\n",
       "      <td>17</td>\n",
       "      <td>https://онлайн-читать.рф/ильф-и-петров-12-стул...</td>\n",
       "      <td>Мадам Кузнецова</td>\n",
       "      <td>Трое владельцев «Нимфы» стояли у своего заведе...</td>\n",
       "      <td>12 стульев</td>\n",
       "      <td>NaN</td>\n",
       "      <td>{\"label\":\"per_oblique\"\\,\"offset\":1327\\,\"length...</td>\n",
       "      <td>NaN</td>\n",
       "      <td>NaN</td>\n",
       "      <td>NaN</td>\n",
       "      <td>NaN</td>\n",
       "      <td>00024333bf--63fe1cee6224c16e7bafeb75</td>\n",
       "      <td>00024333bf--63fe34dbf6b08649eab1078f</td>\n",
       "      <td>6f3b3bc5d0ee3f0960869e4e10c6030b</td>\n",
       "      <td>SUBMITTED</td>\n",
       "      <td>NaN</td>\n",
       "      <td>NaN</td>\n",
       "    </tr>\n",
       "    <tr>\n",
       "      <th>69</th>\n",
       "      <td>9</td>\n",
       "      <td>https://онлайн-читать.рф/ильф-и-петров-12-стул...</td>\n",
       "      <td>Молодой мужчина в пиджаке</td>\n",
       "      <td>– Товарищ, – сказала она, – где тут… Мужчина в...</td>\n",
       "      <td>12 стульев</td>\n",
       "      <td>NaN</td>\n",
       "      <td>{\"label\":\"per_oblique\"\\,\"offset\":37\\,\"length\":...</td>\n",
       "      <td>NaN</td>\n",
       "      <td>NaN</td>\n",
       "      <td>NaN</td>\n",
       "      <td>NaN</td>\n",
       "      <td>00024333bf--63fe1ce96224c16e7bafeb23</td>\n",
       "      <td>00024333bf--63fe324e09277532882442a9</td>\n",
       "      <td>6f3b3bc5d0ee3f0960869e4e10c6030b</td>\n",
       "      <td>SUBMITTED</td>\n",
       "      <td>NaN</td>\n",
       "      <td>NaN</td>\n",
       "    </tr>\n",
       "    <tr>\n",
       "      <th>103</th>\n",
       "      <td>1</td>\n",
       "      <td>https://ilibrary.ru/text/1099/p.1/index.html</td>\n",
       "      <td>Облонская, Дарья Александровна (Долли), жена С...</td>\n",
       "      <td>Глава 1\\r\\nВсе счастливые семьи похожи друг на...</td>\n",
       "      <td>Анна Каренина</td>\n",
       "      <td>NaN</td>\n",
       "      <td>{\"label\":\"per_oblique\"\\,\"offset\":134\\,\"length\"...</td>\n",
       "      <td>NaN</td>\n",
       "      <td>NaN</td>\n",
       "      <td>NaN</td>\n",
       "      <td>NaN</td>\n",
       "      <td>0002427d51--63f9e6a36e98d13e2ac08bee</td>\n",
       "      <td>0002427d51--63faf20ab332d532740ff6e7</td>\n",
       "      <td>a6d1f870109769c9e645946e54e131a9</td>\n",
       "      <td>SUBMITTED</td>\n",
       "      <td>NaN</td>\n",
       "      <td>NaN</td>\n",
       "    </tr>\n",
       "    <tr>\n",
       "      <th>83</th>\n",
       "      <td>7</td>\n",
       "      <td>https://ilibrary.ru/text/1099/p.2/index.html</td>\n",
       "      <td>Матвей, камердинер Степана Аркадьевича Облонского</td>\n",
       "      <td>«Там видно будет», — сказал себе Степан Аркадь...</td>\n",
       "      <td>Анна Каренина</td>\n",
       "      <td>NaN</td>\n",
       "      <td>{\"label\":\"per_oblique\"\\,\"offset\":332\\,\"length\"...</td>\n",
       "      <td>NaN</td>\n",
       "      <td>NaN</td>\n",
       "      <td>NaN</td>\n",
       "      <td>NaN</td>\n",
       "      <td>0002427d51--63f9e6a76e98d13e2ac08c54</td>\n",
       "      <td>0002427d51--63fadc425628fb352233c28f</td>\n",
       "      <td>7ff96ef3e1e2a514706289af5c3a5288</td>\n",
       "      <td>SUBMITTED</td>\n",
       "      <td>NaN</td>\n",
       "      <td>NaN</td>\n",
       "    </tr>\n",
       "    <tr>\n",
       "      <th>117</th>\n",
       "      <td>6</td>\n",
       "      <td>NaN</td>\n",
       "      <td>Елена Васильевна Курагина, дочь князя Василия ...</td>\n",
       "      <td>- Барон Функе рекомендован императрице-матери ...</td>\n",
       "      <td>Война и мир</td>\n",
       "      <td>NaN</td>\n",
       "      <td>{\"label\":\"per_oblique\"\\,\"offset\":767\\,\"length\"...</td>\n",
       "      <td>NaN</td>\n",
       "      <td>NaN</td>\n",
       "      <td>NaN</td>\n",
       "      <td>NaN</td>\n",
       "      <td>0002427d51--63f9e69f6e98d13e2ac08b54</td>\n",
       "      <td>0002427d51--63faf581bcb5d37e2adbefb0</td>\n",
       "      <td>a6d1f870109769c9e645946e54e131a9</td>\n",
       "      <td>SUBMITTED</td>\n",
       "      <td>NaN</td>\n",
       "      <td>NaN</td>\n",
       "    </tr>\n",
       "  </tbody>\n",
       "</table>\n",
       "</div>"
      ],
      "text/plain": [
       "     INPUT:id                                          INPUT:url  \\\n",
       "85         17  https://онлайн-читать.рф/ильф-и-петров-12-стул...   \n",
       "69          9  https://онлайн-читать.рф/ильф-и-петров-12-стул...   \n",
       "103         1       https://ilibrary.ru/text/1099/p.1/index.html   \n",
       "83          7       https://ilibrary.ru/text/1099/p.2/index.html   \n",
       "117         6                                                NaN   \n",
       "\n",
       "                                            INPUT:name  \\\n",
       "85                                     Мадам Кузнецова   \n",
       "69                           Молодой мужчина в пиджаке   \n",
       "103  Облонская, Дарья Александровна (Долли), жена С...   \n",
       "83   Матвей, камердинер Степана Аркадьевича Облонского   \n",
       "117  Елена Васильевна Курагина, дочь князя Василия ...   \n",
       "\n",
       "                                            INPUT:text    INPUT:title  \\\n",
       "85   Трое владельцев «Нимфы» стояли у своего заведе...     12 стульев   \n",
       "69   – Товарищ, – сказала она, – где тут… Мужчина в...     12 стульев   \n",
       "103  Глава 1\\r\\nВсе счастливые семьи похожи друг на...  Анна Каренина   \n",
       "83   «Там видно будет», — сказал себе Степан Аркадь...  Анна Каренина   \n",
       "117  - Барон Функе рекомендован императрице-матери ...    Война и мир   \n",
       "\n",
       "     OUTPUT:no_per                                      OUTPUT:result  \\\n",
       "85             NaN  {\"label\":\"per_oblique\"\\,\"offset\":1327\\,\"length...   \n",
       "69             NaN  {\"label\":\"per_oblique\"\\,\"offset\":37\\,\"length\":...   \n",
       "103            NaN  {\"label\":\"per_oblique\"\\,\"offset\":134\\,\"length\"...   \n",
       "83             NaN  {\"label\":\"per_oblique\"\\,\"offset\":332\\,\"length\"...   \n",
       "117            NaN  {\"label\":\"per_oblique\"\\,\"offset\":767\\,\"length\"...   \n",
       "\n",
       "     GOLDEN:no_per  GOLDEN:result  HINT:text  HINT:default_language  \\\n",
       "85             NaN            NaN        NaN                    NaN   \n",
       "69             NaN            NaN        NaN                    NaN   \n",
       "103            NaN            NaN        NaN                    NaN   \n",
       "83             NaN            NaN        NaN                    NaN   \n",
       "117            NaN            NaN        NaN                    NaN   \n",
       "\n",
       "                       ASSIGNMENT:task_id  \\\n",
       "85   00024333bf--63fe1cee6224c16e7bafeb75   \n",
       "69   00024333bf--63fe1ce96224c16e7bafeb23   \n",
       "103  0002427d51--63f9e6a36e98d13e2ac08bee   \n",
       "83   0002427d51--63f9e6a76e98d13e2ac08c54   \n",
       "117  0002427d51--63f9e69f6e98d13e2ac08b54   \n",
       "\n",
       "                 ASSIGNMENT:assignment_id              ASSIGNMENT:worker_id  \\\n",
       "85   00024333bf--63fe34dbf6b08649eab1078f  6f3b3bc5d0ee3f0960869e4e10c6030b   \n",
       "69   00024333bf--63fe324e09277532882442a9  6f3b3bc5d0ee3f0960869e4e10c6030b   \n",
       "103  0002427d51--63faf20ab332d532740ff6e7  a6d1f870109769c9e645946e54e131a9   \n",
       "83   0002427d51--63fadc425628fb352233c28f  7ff96ef3e1e2a514706289af5c3a5288   \n",
       "117  0002427d51--63faf581bcb5d37e2adbefb0  a6d1f870109769c9e645946e54e131a9   \n",
       "\n",
       "    ASSIGNMENT:status ACCEPT:verdict  ACCEPT:comment  \n",
       "85          SUBMITTED            NaN             NaN  \n",
       "69          SUBMITTED            NaN             NaN  \n",
       "103         SUBMITTED            NaN             NaN  \n",
       "83          SUBMITTED            NaN             NaN  \n",
       "117         SUBMITTED            NaN             NaN  "
      ]
     },
     "execution_count": 124,
     "metadata": {},
     "output_type": "execute_result"
    }
   ],
   "source": [
    "random_tasks.head()"
   ]
  },
  {
   "cell_type": "code",
   "execution_count": 125,
   "id": "49cf4b45",
   "metadata": {},
   "outputs": [],
   "source": [
    "random_tasks[['INPUT:id', 'INPUT:url', 'INPUT:name', 'INPUT:text', 'INPUT:title']].to_csv(\n",
    "    'data/for labeling/tasks_random.tsv', sep='\\t', index=False)"
   ]
  },
  {
   "cell_type": "code",
   "execution_count": 126,
   "id": "49c67e3c",
   "metadata": {},
   "outputs": [],
   "source": [
    "for name, group in groups:\n",
    "    cur_mention = 0\n",
    "    group = group.sort_values('INPUT:id', axis=0)\n",
    "    fulltext = '\\r\\n'.join(group.sort_values('INPUT:id', axis=0)['INPUT:text'].unique())\n",
    "    offsets = []\n",
    "    with open(os.path.join('brat-1.3p1', 'data', name.translate(tr).replace(' ', '_').lower() + '.ann'), 'w') as f:\n",
    "        for ind, subgroup in group.groupby('INPUT:id'):\n",
    "            if not offsets:\n",
    "                cur_offset = 0\n",
    "            else:\n",
    "                cur_offset = offsets[-1]\n",
    "            par_annotations = []\n",
    "            for _, row in subgroup.iterrows():\n",
    "                if not pd.isna(row['OUTPUT:result']) and row['ASSIGNMENT:status'] != 'REJECTED':\n",
    "                    par_annotations.extend(json.loads('[' + row['OUTPUT:result'].replace('\\\\', '') + ']'))\n",
    "            par_annotations = sorted(par_annotations, key=lambda x: x['offset'])\n",
    "            for annotation in par_annotations:\n",
    "                start = cur_offset+annotation['offset']\n",
    "                end = cur_offset+annotation['offset']+annotation['length']\n",
    "                text = fulltext[start:end]\n",
    "                if annotation['label'] == 'per':\n",
    "                    f.write('\\t'.join([f'T{cur_mention}', f'PROP_PER {start} {end}', text]))\n",
    "                elif annotation['label'] == 'per_oblique':\n",
    "                    f.write('\\t'.join([f'T{cur_mention}', f'NOM_PER {start} {end}', text]))\n",
    "                elif annotation['label'] == 'pro':\n",
    "                    f.write('\\t'.join([f'T{cur_mention}', f'PRON_PER {start} {end}', text]))\n",
    "                f.write('\\n')\n",
    "                cur_mention += 1\n",
    "            offsets.append(len(row['INPUT:text'])+cur_offset+2)"
   ]
  },
  {
   "cell_type": "code",
   "execution_count": 128,
   "id": "d470c5f3",
   "metadata": {},
   "outputs": [
    {
     "data": {
      "text/plain": [
       "22"
      ]
     },
     "execution_count": 128,
     "metadata": {},
     "output_type": "execute_result"
    }
   ],
   "source": [
    "df['ASSIGNMENT:worker_id'].nunique()"
   ]
  },
  {
   "cell_type": "code",
   "execution_count": 129,
   "id": "b1a1395c",
   "metadata": {},
   "outputs": [
    {
     "data": {
      "text/plain": [
       "e5f81efb44c1a1d5f2cfd192027a8417    115\n",
       "88d4ae2462e6e7c1ff2ffda67c0169be     43\n",
       "7ff96ef3e1e2a514706289af5c3a5288     30\n",
       "6f3b3bc5d0ee3f0960869e4e10c6030b     27\n",
       "4d9d450e2a627af9c3781e165434d355     21\n",
       "3e58ff9879333efb981f792b2d109bab     19\n",
       "a6d1f870109769c9e645946e54e131a9     17\n",
       "f3cf3f9bb709ce2bee3da304a4ccb427     10\n",
       "65b12e4e69a7d9aa50afd3595e805c61      9\n",
       "a1e620b85542c283f46607e1a88d5bdb      7\n",
       "4f84f6383f70e80851d2a643e222e206      4\n",
       "696c9600713a5044e12f791d25012c5f      4\n",
       "721ce40d924d355c0718a4fc724f4d98      3\n",
       "ddffd2323733538d1322c4da0449f0e9      3\n",
       "46f74bf71e87693862d6d876019e8d90      3\n",
       "f03e577ce982366ce7f17432841db0b0      2\n",
       "12999c48a3ce978108a3d956098854f6      2\n",
       "20e1a1309cf5cfe58addb82192962773      2\n",
       "2c0c3b72eb633e11f90f03e22c00e9ed      1\n",
       "8133925c86f8a3a1cfe9dca5db2f5cee      1\n",
       "17ade270184d61a940f7107da74cf70d      1\n",
       "5e7d747e7586f521ad660369d9c84a79      1\n",
       "Name: ASSIGNMENT:worker_id, dtype: int64"
      ]
     },
     "execution_count": 129,
     "metadata": {},
     "output_type": "execute_result"
    }
   ],
   "source": [
    "df['ASSIGNMENT:worker_id'].value_counts()"
   ]
  },
  {
   "cell_type": "code",
   "execution_count": null,
   "id": "ef7e69a2",
   "metadata": {},
   "outputs": [],
   "source": []
  }
 ],
 "metadata": {
  "kernelspec": {
   "display_name": "Python 3 (ipykernel)",
   "language": "python",
   "name": "python3"
  },
  "language_info": {
   "codemirror_mode": {
    "name": "ipython",
    "version": 3
   },
   "file_extension": ".py",
   "mimetype": "text/x-python",
   "name": "python",
   "nbconvert_exporter": "python",
   "pygments_lexer": "ipython3",
   "version": "3.9.12"
  }
 },
 "nbformat": 4,
 "nbformat_minor": 5
}
